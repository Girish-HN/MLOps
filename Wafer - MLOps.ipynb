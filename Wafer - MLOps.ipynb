{
 "cells": [
  {
   "cell_type": "code",
   "execution_count": 1,
   "metadata": {},
   "outputs": [],
   "source": [
    "import os\n",
    "from glob import glob"
   ]
  },
  {
   "cell_type": "code",
   "execution_count": 2,
   "metadata": {},
   "outputs": [],
   "source": [
    "data_dirs = [\"Training_Batch_Files\",\"Prediction_Batch_Files\"]"
   ]
  },
  {
   "cell_type": "code",
   "execution_count": 5,
   "metadata": {
    "scrolled": true
   },
   "outputs": [
    {
     "name": "stdout",
     "output_type": "stream",
     "text": [
      "dvc add Training_Batch_Files\\Wafer12_20012.csv\n",
      "dvc add Training_Batch_Files\\Waferdefault_15010_130532.csv\n",
      "dvc add Training_Batch_Files\\Wafer_07012020_000000.csv\n",
      "dvc add Training_Batch_Files\\wafer_07012020_041011.csv\n",
      "dvc add Training_Batch_Files\\Wafer_07012020_223345.csv\n",
      "dvc add Training_Batch_Files\\Wafer_08012020_120000.csv\n",
      "dvc add Training_Batch_Files\\Wafer_10012020_131534.csv\n",
      "dvc add Training_Batch_Files\\Wafer_11012020_151432.csv\n",
      "dvc add Training_Batch_Files\\Wafer_12012020_111.csv\n",
      "dvc add Training_Batch_Files\\Wafer_12012020_111213.csv\n",
      "dvc add Training_Batch_Files\\wafer_13012020_090817.csv\n",
      "dvc add Training_Batch_Files\\Wafer_13012020_141000.csv\n",
      "dvc add Training_Batch_Files\\Wafer_14012020_113045.csv\n",
      "dvc add Training_Batch_Files\\Wafer_15010_130532.csv\n",
      "dvc add Training_Batch_Files\\Wafer_15012020_130532.csv\n",
      "dvc add Training_Batch_Files\\wafer_16012020_051629.csv\n",
      "dvc add Training_Batch_Files\\wafer_16012020_134553.csv\n",
      "dvc add Training_Batch_Files\\wafer_17012020_125434.csv\n",
      "dvc add Training_Batch_Files\\Wafer_18012020_121532.csv\n",
      "dvc add Training_Batch_Files\\Wafer_19012020_141432.csv\n",
      "dvc add Training_Batch_Files\\wafer_20012020_090819.csv\n",
      "dvc add Training_Batch_Files\\Wafer_20012020_135132.csv\n",
      "dvc add Training_Batch_Files\\wafer_20022020_090716.csv\n",
      "dvc add Training_Batch_Files\\wafer_21012020_080913.csv\n",
      "dvc add Training_Batch_Files\\Wafer_21012020_143634.csv\n",
      "dvc add Training_Batch_Files\\Wafer_22012020_173245.csv\n",
      "dvc add Training_Batch_Files\\wafer_22022020_041119.csv\n",
      "dvc add Training_Batch_Files\\wafer_23012020_011008.csv\n",
      "dvc add Training_Batch_Files\\wafer_23012020_041211.csv\n",
      "dvc add Training_Batch_Files\\Wafer_23012020_163456.csv\n",
      "dvc add Training_Batch_Files\\Wafer_24012020_150121.csv\n",
      "dvc add Training_Batch_Files\\Wafer_25012020_142112.csv\n",
      "dvc add Training_Batch_Files\\wafer_27012020_080911.csv\n",
      "dvc add Training_Batch_Files\\wafer_28012020_051011.csv\n",
      "dvc add Training_Batch_Files\\wafer_28012020_090817.csv\n",
      "dvc add Training_Batch_Files\\wafer_28042020_031911.csv\n",
      "dvc add Training_Batch_Files\\wafer_29012020_050617.csv\n",
      "dvc add Training_Batch_Files\\wafer_29012020_060756.csv\n",
      "dvc add Training_Batch_Files\\wafer_31012020_090811.csv\n",
      "dvc add Training_Batch_Files\\Wafer_fault_detection.csv\n",
      "dvc add Training_Batch_Files\\Wafer_text_130532.csv\n",
      "dvc add Prediction_Batch_Files\\wafer_07012020_041011.csv\n",
      "dvc add Prediction_Batch_Files\\wafer_13012020_090817.csv\n",
      "dvc add Prediction_Batch_Files\\Wafer_13012020_141000.csv\n",
      "dvc add Prediction_Batch_Files\\Wafer_14012020_113045.csv\n",
      "dvc add Prediction_Batch_Files\\Wafer_15010_130532.csv\n",
      "dvc add Prediction_Batch_Files\\wafer_16012020_051629.csv\n",
      "dvc add Prediction_Batch_Files\\wafer_20012020_090819.csv\n",
      "dvc add Prediction_Batch_Files\\wafer_20022020_090716.csv\n",
      "dvc add Prediction_Batch_Files\\wafer_21012020_080913.csv\n",
      "dvc add Prediction_Batch_Files\\wafer_22022020_041119.csv\n",
      "dvc add Prediction_Batch_Files\\wafer_23012020_011008.csv\n",
      "dvc add Prediction_Batch_Files\\wafer_23012020_041211.csv\n",
      "dvc add Prediction_Batch_Files\\wafer_27012020_080911.csv\n",
      "dvc add Prediction_Batch_Files\\wafer_28012020_051011.csv\n",
      "dvc add Prediction_Batch_Files\\wafer_28012020_090817.csv\n",
      "dvc add Prediction_Batch_Files\\wafer_28042020_031911.csv\n",
      "dvc add Prediction_Batch_Files\\wafer_29012020_050617.csv\n",
      "dvc add Prediction_Batch_Files\\wafer_29012020_060756.csv\n",
      "dvc add Prediction_Batch_Files\\wafer_31012020_090811.csv\n",
      "\n",
      " #### all files added to dvc ####\n"
     ]
    }
   ],
   "source": [
    "for data_dir in data_dirs:\n",
    "    files = glob(data_dir+ r\"/*.csv\")\n",
    "    for filePath in files:\n",
    "        print(f\"dvc add {filePath}\")\n",
    "        os.system(f\"dvc add {filePath}\")\n",
    "\n",
    "print(\"\\n #### all files added to dvc ####\")"
   ]
  },
  {
   "cell_type": "code",
   "execution_count": null,
   "metadata": {},
   "outputs": [],
   "source": [
    "git remote add origin https://github.com/Girish-HN/MLOps.git"
   ]
  }
 ],
 "metadata": {
  "kernelspec": {
   "display_name": "Python 3",
   "language": "python",
   "name": "python3"
  },
  "language_info": {
   "codemirror_mode": {
    "name": "ipython",
    "version": 3
   },
   "file_extension": ".py",
   "mimetype": "text/x-python",
   "name": "python",
   "nbconvert_exporter": "python",
   "pygments_lexer": "ipython3",
   "version": "3.6.3"
  }
 },
 "nbformat": 4,
 "nbformat_minor": 4
}
